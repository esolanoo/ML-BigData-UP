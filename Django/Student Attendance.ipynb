{
 "cells": [
  {
   "cell_type": "markdown",
   "metadata": {},
   "source": [
    "# Database connection\n",
    "\n",
    "### Functions to run queries"
   ]
  },
  {
   "cell_type": "code",
   "execution_count": 3,
   "metadata": {},
   "outputs": [],
   "source": [
    "import mysql.connector\n",
    "import pandas as pd\n",
    "\n",
    "def connect():\n",
    "    con = mysql.connector.connect(\n",
    "        host=\"35.193.209.4\",\n",
    "        user=\"0213663\",\n",
    "        password=\"0213663\",\n",
    "        database=\"up_0213663\"\n",
    "    )\n",
    "    cur = con.cursor()\n",
    "    return con, cur\n",
    "\n",
    "def close(con, cur):\n",
    "    cur.close()\n",
    "    con.close()\n",
    "    \n",
    "def run(query):\n",
    "    con, cur = connect()\n",
    "    cur.execute(query)\n",
    "    close(con, cur)\n",
    "    \n",
    "def retrieve(query):\n",
    "    con, cur = connect()\n",
    "    cur.execute(query)\n",
    "    rows = cur.fetchall()\n",
    "    columns = [d[0] for d in cur.description]\n",
    "    close(con, cur)\n",
    "    return pd.DataFrame(rows, columns=columns)"
   ]
  },
  {
   "cell_type": "markdown",
   "metadata": {},
   "source": [
    "## Tables\n",
    "\n",
    "The design of our database was structured thinking about how the interactions between them would be easier to progrram in the Django project. The result is shown as follows:"
   ]
  },
  {
   "cell_type": "markdown",
   "metadata": {},
   "source": [
    "![DB](DB.png)"
   ]
  },
  {
   "cell_type": "markdown",
   "metadata": {},
   "source": [
    "### Query to create tables\n",
    "\n",
    "```sql\n",
    "CREATE TABLE `students` (\n",
    "  `id` CHAR(10) PRIMARY KEY NOT NULL,\n",
    "  `name` VARCHAR(128) NOT NULL,\n",
    "  `last_names` VARCHAR(128) NOT NULL,\n",
    "  `alias` VARCHAR(128)\n",
    ");\n",
    "\n",
    "CREATE TABLE `classes` (\n",
    "  `class_number` INT AUTO_INCREMENT PRIMARY KEY NOT NULL,\n",
    "  `topic` VARCHAR(128) NOT NULL,\n",
    "  `created_at` TIMESTAMP NOT NULL DEFAULT CURRENT_TIME\n",
    ");\n",
    "\n",
    "CREATE TABLE `questions` (\n",
    "  `class_number` INT PRIMARY KEY NOT NULL,\n",
    "  `question` VARCHAR(256),\n",
    ");\n",
    "\n",
    "CREATE TABLE `answers` (\n",
    "  `class_number` INT PRIMARY KEY NOT NULL,\n",
    "  `student_id` CHAR(10) NOT NULL,\n",
    "  `given_answer` VARCHAR(256) NOT NULL\n",
    ");\n",
    "\n",
    "CREATE TABLE `attendance` (\n",
    "  `class` INT PRIMARY KEY NOT NULL,\n",
    "  `student_id` VARCHAR(256) NOT NULL,\n",
    "  `attendance` bool NOT NULL DEFAULT 0\n",
    ");\n",
    "\n",
    "CREATE TABLE `quiz` (\n",
    "  `student_id` CHAR(10) PRIMARY KEY,\n",
    "  `question1` VARCHAR(256),\n",
    "  `question2` VARCHAR(256),\n",
    "  `question3` VARCHAR(256),\n",
    "  `question4` VARCHAR(256),\n",
    "  `question5` VARCHAR(256),\n",
    "  `question6` VARCHAR(256),\n",
    "  `answer1` VARCHAR(256),\n",
    "  `answer2` VARCHAR(256),\n",
    "  `answer3` VARCHAR(256),\n",
    "  `answer4` VARCHAR(256),\n",
    "  `answer5` VARCHAR(256),\n",
    "  `answer6` VARCHAR(256)\n",
    ");\n",
    "\n",
    "CREATE TABLE `choices` (\n",
    "  `question` VARCHAR(256) PRIMARY KEY,\n",
    "  `choice` VARCHAR(256),\n",
    "  `correct` bool NOT NULL DEFAULT 0\n",
    ");\n",
    "```"
   ]
  },
  {
   "cell_type": "markdown",
   "metadata": {},
   "source": [
    "### Query to add relationships\n",
    "\n",
    "```sql\n",
    "ALTER TABLE `questions` ADD FOREIGN KEY (`class_number`) REFERENCES `classes` (`class_number`);\n",
    "ALTER TABLE `questions` ADD FOREIGN KEY (`class_number`) REFERENCES `answers` (`class_number`);\n",
    "ALTER TABLE `students` ADD FOREIGN KEY (`id`) REFERENCES `answers` (`student_id`);\n",
    "ALTER TABLE `questions` ADD FOREIGN KEY (`question`) REFERENCES `answers` (`question`);\n",
    "ALTER TABLE `classes` ADD FOREIGN KEY (`class_number`) REFERENCES `attendance` (`class_number`);\n",
    "ALTER TABLE `students` ADD FOREIGN KEY (`id`) REFERENCES `attendance` (`student_id`);\n",
    "ALTER TABLE `quiz` ADD FOREIGN KEY (`student_id`) REFERENCES `students` (`id`);\n",
    "ALTER TABLE `choices` ADD FOREIGN KEY (`question`) REFERENCES `quiz` (`question1`);\n",
    "ALTER TABLE `choices` ADD FOREIGN KEY (`question`) REFERENCES `quiz` (`question2`);\n",
    "ALTER TABLE `choices` ADD FOREIGN KEY (`question`) REFERENCES `quiz` (`question3`);\n",
    "ALTER TABLE `choices` ADD FOREIGN KEY (`question`) REFERENCES `quiz` (`question4`);\n",
    "ALTER TABLE `choices` ADD FOREIGN KEY (`question`) REFERENCES `quiz` (`question5`);\n",
    "ALTER TABLE `choices` ADD FOREIGN KEY (`question`) REFERENCES `quiz` (`question6`);\n",
    "ALTER TABLE `choices` ADD FOREIGN KEY (`correct`) REFERENCES `quiz` (`answer1`);\n",
    "ALTER TABLE `choices` ADD FOREIGN KEY (`correct`) REFERENCES `quiz` (`answer2`);\n",
    "ALTER TABLE `choices` ADD FOREIGN KEY (`correct`) REFERENCES `quiz` (`answer3`);\n",
    "ALTER TABLE `choices` ADD FOREIGN KEY (`correct`) REFERENCES `quiz` (`answer4`);\n",
    "ALTER TABLE `choices` ADD FOREIGN KEY (`correct`) REFERENCES `quiz` (`answer5`);\n",
    "ALTER TABLE `choices` ADD FOREIGN KEY (`correct`) REFERENCES `quiz` (`answer6`);\n",
    "```"
   ]
  },
  {
   "cell_type": "markdown",
   "metadata": {},
   "source": [
    "### Inserts per table (**examples**)"
   ]
  },
  {
   "cell_type": "markdown",
   "metadata": {},
   "source": [
    "**students**\n",
    "```sql\n",
    "INSERT INTO students (id, name, last_names, alias) VALUES ('0224604', 'Paulina', 'Barba Mendoza', 'Pau'), ('0213663', 'Eduardo', 'Solano Jaime', 'Eduardo');\n",
    "```\n",
    "**classes**\n",
    "```sql\n",
    "INSERT INTO classes (class_number, topic) VALUES (1,'Django'), (2, 'Cloud Computing')\n",
    "```\n",
    "**questions**\n",
    "```sql\n",
    "INSERT INTO questions (class_number, question) VALUES (1, 'Favorite food');\n",
    "```\n",
    "**answers**\n",
    "```sql\n",
    "INSERT INTO answers (class_number, id, given_answer) VALUES (1, '0224604', 'Sushi'), (1, '0213663', 'Tacos');\n",
    "```\n",
    "**attendance**\n",
    "```sql\n",
    "INSERT INTO attendance (class_number, id, attendance) VALUES (1, '0224604', 1), (1, '0213663');\n",
    "```\n",
    "**quiz**\n",
    "```sql\n",
    "INSERT INTO quiz (student_id, question1, question2, question3, question4, question5, question6, answer1, answer2, answer3, answer4, answer5, answer6) \n",
    "VALUES ('0224604', \n",
    "        'Which SQL statement is used to retrieve data from a database?', \n",
    "        'What is the correct SQL statement to create a database named test_db?',\n",
    "        'Which of the following is a valid data type in MySQL?',\n",
    "        'What is the main purpose of an index in a database?',\n",
    "        'Which SQL keyword is used to combine rows from two or more tables, based on a related column between them?',\n",
    "        'Which SQL function is used to calculate the number of rows in a table?',\n",
    "        1, 1, 0, 1, 0, 1), \n",
    "        ('0213663', \n",
    "        'Which SQL statement is used to retrieve data from a database?', \n",
    "        'What is the correct SQL statement to create a database named test_db?',\n",
    "        'Which of the following is a valid data type in MySQL?',\n",
    "        'What is the main purpose of an index in a database?',\n",
    "        'Which SQL keyword is used to combine rows from two or more tables, based on a related column between them?',\n",
    "        'Which SQL function is used to calculate the number of rows in a table?',\n",
    "        1, 0, 0, 1, 0, 0) ;\n",
    "```\n",
    "**choices**\n",
    "```sql\n",
    "INSERT INTO attendance (question, choice, correct) \n",
    "VALUES ('Which SQL statement is used to retrieve data from a database?', 'GET', 0),\n",
    "        ('Which SQL statement is used to retrieve data from a database?', 'RETRIEVE', 0),\n",
    "        ('Which SQL statement is used to retrieve data from a database?', 'SELECT', 1),\n",
    "        ('Which SQL statement is used to retrieve data from a database?', 'FETCH', 0);\n",
    "```"
   ]
  },
  {
   "cell_type": "markdown",
   "metadata": {},
   "source": [
    "### Run the queries"
   ]
  },
  {
   "cell_type": "markdown",
   "metadata": {},
   "source": [
    "Fortunately, Django and the use of Models and Forms in python create the databases automatically in our server. We still have to translate the previous SQL statements in order to create the models and expect the same result in the DB, although the name of the tables will contain a suffix `myapp_` because of the name of the Django project."
   ]
  },
  {
   "cell_type": "code",
   "execution_count": 19,
   "metadata": {},
   "outputs": [
    {
     "data": {
      "text/html": [
       "<div>\n",
       "<style scoped>\n",
       "    .dataframe tbody tr th:only-of-type {\n",
       "        vertical-align: middle;\n",
       "    }\n",
       "\n",
       "    .dataframe tbody tr th {\n",
       "        vertical-align: top;\n",
       "    }\n",
       "\n",
       "    .dataframe thead th {\n",
       "        text-align: right;\n",
       "    }\n",
       "</style>\n",
       "<table border=\"1\" class=\"dataframe\">\n",
       "  <thead>\n",
       "    <tr style=\"text-align: right;\">\n",
       "      <th></th>\n",
       "      <th>Tables_in_up_0213663</th>\n",
       "    </tr>\n",
       "  </thead>\n",
       "  <tbody>\n",
       "    <tr>\n",
       "      <th>10</th>\n",
       "      <td>myapp_answer</td>\n",
       "    </tr>\n",
       "    <tr>\n",
       "      <th>11</th>\n",
       "      <td>myapp_attendance</td>\n",
       "    </tr>\n",
       "    <tr>\n",
       "      <th>12</th>\n",
       "      <td>myapp_choices</td>\n",
       "    </tr>\n",
       "    <tr>\n",
       "      <th>13</th>\n",
       "      <td>myapp_class</td>\n",
       "    </tr>\n",
       "    <tr>\n",
       "      <th>14</th>\n",
       "      <td>myapp_questions</td>\n",
       "    </tr>\n",
       "    <tr>\n",
       "      <th>15</th>\n",
       "      <td>myapp_quiz</td>\n",
       "    </tr>\n",
       "    <tr>\n",
       "      <th>16</th>\n",
       "      <td>myapp_student</td>\n",
       "    </tr>\n",
       "  </tbody>\n",
       "</table>\n",
       "</div>"
      ],
      "text/plain": [
       "   Tables_in_up_0213663\n",
       "10         myapp_answer\n",
       "11     myapp_attendance\n",
       "12        myapp_choices\n",
       "13          myapp_class\n",
       "14      myapp_questions\n",
       "15           myapp_quiz\n",
       "16        myapp_student"
      ]
     },
     "execution_count": 19,
     "metadata": {},
     "output_type": "execute_result"
    }
   ],
   "source": [
    "retrieve('SHOW TABLES')[-7:]"
   ]
  }
 ],
 "metadata": {
  "kernelspec": {
   "display_name": "Python 3",
   "language": "python",
   "name": "python3"
  },
  "language_info": {
   "codemirror_mode": {
    "name": "ipython",
    "version": 3
   },
   "file_extension": ".py",
   "mimetype": "text/x-python",
   "name": "python",
   "nbconvert_exporter": "python",
   "pygments_lexer": "ipython3",
   "version": "3.11.3"
  }
 },
 "nbformat": 4,
 "nbformat_minor": 2
}
