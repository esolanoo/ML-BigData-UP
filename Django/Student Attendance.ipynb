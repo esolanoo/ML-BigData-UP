{
 "cells": [
  {
   "cell_type": "code",
   "execution_count": 2,
   "metadata": {},
   "outputs": [],
   "source": [
    "import mysql.connector\n",
    "import pandas as pd"
   ]
  },
  {
   "cell_type": "markdown",
   "metadata": {},
   "source": [
    "# Database connection\n",
    "\n",
    "### Functions to run queries"
   ]
  },
  {
   "cell_type": "code",
   "execution_count": 3,
   "metadata": {},
   "outputs": [],
   "source": [
    "def connect():\n",
    "    con = mysql.connector.connect(\n",
    "        host=\"35.193.209.4\",\n",
    "        user=\"0213663\",\n",
    "        password=\"0213663\",\n",
    "        database=\"up_0213663\"\n",
    "    )\n",
    "    cur = con.cursor()\n",
    "    return con, cur\n",
    "\n",
    "def close(con, cur):\n",
    "    cur.close()\n",
    "    con.close()\n",
    "    \n",
    "def run(query):\n",
    "    con, cur = connect()\n",
    "    cur.execute(query)\n",
    "    close(con, cur)\n",
    "    \n",
    "def retrieve(query):\n",
    "    con, cur = connect()\n",
    "    cur.execute(query)\n",
    "    rows = cur.fetchall()\n",
    "    columns = [d[0] for d in cur.description]\n",
    "    close(con, cur)\n",
    "    return pd.DataFrame(rows, columns=columns)"
   ]
  },
  {
   "cell_type": "markdown",
   "metadata": {},
   "source": [
    "## Tables"
   ]
  },
  {
   "cell_type": "markdown",
   "metadata": {},
   "source": [
    "![DB](DB.png)"
   ]
  },
  {
   "cell_type": "markdown",
   "metadata": {},
   "source": [
    "### Query to create tables\n",
    "\n",
    "```sql\n",
    "CREATE TABLE `students` (\n",
    "  `id` CHAR(10) PRIMARY KEY NOT NULL,\n",
    "  `name` VARCHAR(128) NOT NULL,\n",
    "  `last_names` VARCHAR(128) NOT NULL,\n",
    "  `alias` VARCHAR(128)\n",
    ");\n",
    "\n",
    "CREATE TABLE `classes` (\n",
    "  `class_number` INT AUTO_INCREMENT PRIMARY KEY NOT NULL,\n",
    "  `topic` VARCHAR(128) NOT NULL,\n",
    "  `created_at` TIMESTAMP NOT NULL DEFAULT CURRENT_TIME\n",
    ");\n",
    "\n",
    "CREATE TABLE `questions` (\n",
    "  `class_number` INT PRIMARY KEY NOT NULL,\n",
    "  `question` VARCHAR(256),\n",
    ");\n",
    "\n",
    "CREATE TABLE `answers` (\n",
    "  `class_number` INT PRIMARY KEY NOT NULL,\n",
    "  `student_id` CHAR(10) NOT NULL,\n",
    "  `given_answer` VARCHAR(256) NOT NULL\n",
    ");\n",
    "\n",
    "CREATE TABLE `attendance` (\n",
    "  `class` INT PRIMARY KEY NOT NULL,\n",
    "  `student_id` VARCHAR(256) NOT NULL,\n",
    "  `attendance` bool NOT NULL DEFAULT 0\n",
    ");\n",
    "```"
   ]
  },
  {
   "cell_type": "markdown",
   "metadata": {},
   "source": [
    "### Query to add relationships\n",
    "\n",
    "```sql\n",
    "ALTER TABLE `classes` ADD FOREIGN KEY (`student_id`) REFERENCES `students` (`id`);\n",
    "\n",
    "ALTER TABLE `questions` ADD FOREIGN KEY (`class_number`) REFERENCES `classes` (`class_number`);\n",
    "\n",
    "ALTER TABLE `questions` ADD FOREIGN KEY (`class_number`) REFERENCES `answers` (`class_number`);\n",
    "\n",
    "ALTER TABLE `students` ADD FOREIGN KEY (`id`) REFERENCES `answers` (`student_id`);\n",
    "\n",
    "ALTER TABLE `classes` ADD FOREIGN KEY (`class_number`) REFERENCES `attendance` (`class_number`);\n",
    "\n",
    "ALTER TABLE `students` ADD FOREIGN KEY (`id`) REFERENCES `attendance` (`student_id`);\n",
    "```"
   ]
  },
  {
   "cell_type": "markdown",
   "metadata": {},
   "source": [
    "### Run the queries"
   ]
  },
  {
   "cell_type": "code",
   "execution_count": 5,
   "metadata": {},
   "outputs": [],
   "source": [
    "with open('Tables.sql', 'r') as file:\n",
    "    sql_string = file.read()\n",
    "query = sql_string.replace('\\n', '').replace('  ', ' ').replace(';', '; ')\n",
    "run(query)"
   ]
  },
  {
   "cell_type": "markdown",
   "metadata": {},
   "source": [
    "Check existance"
   ]
  },
  {
   "cell_type": "code",
   "execution_count": 5,
   "metadata": {},
   "outputs": [
    {
     "data": {
      "text/html": [
       "<div>\n",
       "<style scoped>\n",
       "    .dataframe tbody tr th:only-of-type {\n",
       "        vertical-align: middle;\n",
       "    }\n",
       "\n",
       "    .dataframe tbody tr th {\n",
       "        vertical-align: top;\n",
       "    }\n",
       "\n",
       "    .dataframe thead th {\n",
       "        text-align: right;\n",
       "    }\n",
       "</style>\n",
       "<table border=\"1\" class=\"dataframe\">\n",
       "  <thead>\n",
       "    <tr style=\"text-align: right;\">\n",
       "      <th></th>\n",
       "      <th>Tables_in_up_0213663</th>\n",
       "    </tr>\n",
       "  </thead>\n",
       "  <tbody>\n",
       "    <tr>\n",
       "      <th>0</th>\n",
       "      <td>answers</td>\n",
       "    </tr>\n",
       "    <tr>\n",
       "      <th>1</th>\n",
       "      <td>attendance</td>\n",
       "    </tr>\n",
       "    <tr>\n",
       "      <th>2</th>\n",
       "      <td>classes</td>\n",
       "    </tr>\n",
       "    <tr>\n",
       "      <th>3</th>\n",
       "      <td>questions</td>\n",
       "    </tr>\n",
       "    <tr>\n",
       "      <th>4</th>\n",
       "      <td>students</td>\n",
       "    </tr>\n",
       "  </tbody>\n",
       "</table>\n",
       "</div>"
      ],
      "text/plain": [
       "  Tables_in_up_0213663\n",
       "0              answers\n",
       "1           attendance\n",
       "2              classes\n",
       "3            questions\n",
       "4             students"
      ]
     },
     "execution_count": 5,
     "metadata": {},
     "output_type": "execute_result"
    }
   ],
   "source": [
    "retrieve('SHOW TABLES')"
   ]
  },
  {
   "cell_type": "markdown",
   "metadata": {},
   "source": [
    "### Inserts per table (examples)"
   ]
  },
  {
   "cell_type": "markdown",
   "metadata": {},
   "source": [
    "**students**\n",
    "```sql\n",
    "INSERT INTO students (id, name, last_names, alias) VALUES ('0224604', 'Paulina', 'Barba Mendoza', 'Pau'), ('0213663', 'Eduardo', 'Solano Jaime', 'Eduardo');\n",
    "```\n",
    "**classes**\n",
    "```sql\n",
    "INSERT INTO classes (class, question, topic) VALUES (1, 'Favorite food', 'Django'), (2, 'Favourite Number', 'Cloud Computing')\n",
    "```\n",
    "**questions**\n",
    "```sql\n",
    "INSERT INTO questions (class, question) VALUES (1, 'Favorite food');\n",
    "```\n",
    "**answers**\n",
    "```sql\n",
    "INSERT INTO answers (class, id, given_answer) VALUES (1, '0224604', 'Sushi'), (1, '0213663', 'Tacos');\n",
    "```\n",
    "**attendance**\n",
    "```sql\n",
    "INSERT INTO attendance (class, id, attendance) VALUES (1, '0224604', 1), (1, '0213663');\n",
    "```"
   ]
  }
 ],
 "metadata": {
  "kernelspec": {
   "display_name": "Python 3",
   "language": "python",
   "name": "python3"
  },
  "language_info": {
   "codemirror_mode": {
    "name": "ipython",
    "version": 3
   },
   "file_extension": ".py",
   "mimetype": "text/x-python",
   "name": "python",
   "nbconvert_exporter": "python",
   "pygments_lexer": "ipython3",
   "version": "3.11.3"
  }
 },
 "nbformat": 4,
 "nbformat_minor": 2
}
